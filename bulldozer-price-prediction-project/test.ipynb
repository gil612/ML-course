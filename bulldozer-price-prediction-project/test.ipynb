{
 "cells": [
  {
   "cell_type": "markdown",
   "id": "9da4f4fa",
   "metadata": {},
   "source": [
    "# Predicting the Sale Price of Bulldozers using Machine Learning\n",
    "\n",
    "In this notebook, we're going to go through an example machine learning project with the goal of predicting the sale price of bulldozers.\n",
    "\n",
    "## 1. Problem definition\n",
    "\n",
    "> How well can wew predict the future sale price of a bulldozer, given its charactersitic and previous examples of how similar bulldozers have been sold for?\n",
    "\n",
    "## 2. Data\n",
    "\n",
    "## 3. Evaluation\n",
    "\n",
    "## 4. Features"
   ]
  },
  {
   "cell_type": "code",
   "execution_count": null,
   "id": "4ab1b40f",
   "metadata": {},
   "outputs": [],
   "source": []
  },
  {
   "cell_type": "code",
   "execution_count": null,
   "id": "d06da28c",
   "metadata": {},
   "outputs": [],
   "source": []
  },
  {
   "cell_type": "code",
   "execution_count": 1,
   "id": "6fa119ff",
   "metadata": {},
   "outputs": [],
   "source": [
    "import pandas as pd\n",
    "import numpy as np\n",
    "import matplotlib.pyplot as plt\n",
    "\n",
    "%matplotlib inline"
   ]
  },
  {
   "cell_type": "code",
   "execution_count": null,
   "id": "3b08e80d",
   "metadata": {},
   "outputs": [],
   "source": []
  }
 ],
 "metadata": {
  "kernelspec": {
   "display_name": "Python 3 (ipykernel)",
   "language": "python",
   "name": "python3"
  },
  "language_info": {
   "codemirror_mode": {
    "name": "ipython",
    "version": 3
   },
   "file_extension": ".py",
   "mimetype": "text/x-python",
   "name": "python",
   "nbconvert_exporter": "python",
   "pygments_lexer": "ipython3",
   "version": "3.10.12"
  }
 },
 "nbformat": 4,
 "nbformat_minor": 5
}
